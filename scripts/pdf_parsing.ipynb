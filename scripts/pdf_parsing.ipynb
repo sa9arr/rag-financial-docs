{
 "cells": [
  {
   "cell_type": "code",
   "execution_count": 15,
   "id": "e7d2f157",
   "metadata": {},
   "outputs": [],
   "source": [
    "\n",
    "from docling.datamodel.base_models import InputFormat\n",
    "from docling.datamodel.pipeline_options import PdfPipelineOptions\n",
    "from docling.document_converter import DocumentConverter, PdfFormatOption\n",
    "\n",
    "\n",
    "\n",
    "def convert_pdf_to_markdown(file_path):\n",
    "    \"\"\"Converts a single PDF file to a markdown string using Docling.\"\"\"\n",
    "    \n",
    "    # Configure Docling to handle table structure\n",
    "    pipeline_options = PdfPipelineOptions()\n",
    "    pipeline_options.do_table_structure = True\n",
    "    pipeline_options.do_ocr = True  \n",
    "    \n",
    "    # Initialize the converter with the specified options\n",
    "    converter = DocumentConverter(format_options={\n",
    "        InputFormat.PDF: PdfFormatOption(pipeline_options=pipeline_options)\n",
    "    })\n",
    "    \n",
    "    # Convert the PDF file\n",
    "    doc = converter.convert(file_path)\n",
    "    \n",
    "    # Export the document to a markdown string\n",
    "    markdown_content = doc.document.export_to_markdown()\n",
    "    \n",
    "    return markdown_content\n",
    "\n",
    "\n",
    "pdf_file_path = \"/home/ozymas/Pictures/rag-financial-docs/documents/2022 Q3 AAPL.pdf\"\n",
    "\n",
    "# Call the function to convert the PDF\n",
    "markdown_output = convert_pdf_to_markdown(pdf_file_path)\n",
    "with open(\"data.md\", \"w\") as f:\n",
    "    f.write(markdown_output)\n",
    "\n"
   ]
  },
  {
   "cell_type": "markdown",
   "id": "8efa5e2a",
   "metadata": {},
   "source": []
  },
  {
   "cell_type": "markdown",
   "id": "388ccb08",
   "metadata": {},
   "source": []
  }
 ],
 "metadata": {
  "kernelspec": {
   "display_name": "finrag",
   "language": "python",
   "name": "python3"
  },
  "language_info": {
   "codemirror_mode": {
    "name": "ipython",
    "version": 3
   },
   "file_extension": ".py",
   "mimetype": "text/x-python",
   "name": "python",
   "nbconvert_exporter": "python",
   "pygments_lexer": "ipython3",
   "version": "3.12.0"
  }
 },
 "nbformat": 4,
 "nbformat_minor": 5
}
