{
 "cells": [
  {
   "cell_type": "code",
   "execution_count": 1,
   "id": "f0654814",
   "metadata": {},
   "outputs": [],
   "source": [
    "from lightrag import LightRAG"
   ]
  },
  {
   "cell_type": "code",
   "execution_count": 2,
   "id": "8c9cb287",
   "metadata": {},
   "outputs": [
    {
     "name": "stdout",
     "output_type": "stream",
     "text": [
      "/home/ozymas/miniconda3/envs/newrag/bin/python\n"
     ]
    }
   ],
   "source": [
    "import sys\n",
    "print(sys.executable)\n"
   ]
  }
 ],
 "metadata": {
  "kernelspec": {
   "display_name": "newrag",
   "language": "python",
   "name": "python3"
  },
  "language_info": {
   "codemirror_mode": {
    "name": "ipython",
    "version": 3
   },
   "file_extension": ".py",
   "mimetype": "text/x-python",
   "name": "python",
   "nbconvert_exporter": "python",
   "pygments_lexer": "ipython3",
   "version": "3.12.0"
  }
 },
 "nbformat": 4,
 "nbformat_minor": 5
}
